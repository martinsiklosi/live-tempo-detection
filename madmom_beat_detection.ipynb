{
 "cells": [
  {
   "cell_type": "code",
   "execution_count": 1,
   "id": "e32eaa0d",
   "metadata": {},
   "outputs": [],
   "source": [
    "import matplotlib.pyplot as plt\n",
    "import IPython.display as ipd\n",
    "import librosa\n",
    "import madmom\n",
    "\n",
    "\n",
    "def run_beat_tracking(file: str) -> ipd.Audio:\n",
    "    x, sr = librosa.load(file)\n",
    "    \n",
    "    proc = madmom.features.beats.DBNBeatTrackingProcessor(fps=100)\n",
    "    act = madmom.features.beats.RNNBeatProcessor()(file)\n",
    "    beat_times = proc(act)\n",
    "    \n",
    "    plt.figure(figsize=(14, 5))\n",
    "    librosa.display.waveshow(x, alpha=0.6)\n",
    "    plt.vlines(beat_times, -1, 1, color=\"r\")\n",
    "    plt.ylim(-1, 1)\n",
    "    plt.title(f\"{file=}\")\n",
    "\n",
    "    clicks = librosa.clicks(times=beat_times, sr=sr, length=len(x))\n",
    "    return ipd.Audio(x + clicks, rate=sr)"
   ]
  },
  {
   "cell_type": "code",
   "execution_count": null,
   "id": "b17fdbbf",
   "metadata": {},
   "outputs": [],
   "source": [
    "file = \"audio/iädb-162-metronome.wav\"\n",
    "x, sr = librosa.load(file)\n",
    "proc = madmom.features.beats.DBNBeatTrackingProcessor(fps=100)\n",
    "act = madmom.features.beats.RNNBeatProcessor()(file)\n",
    "beat_times = proc(act)"
   ]
  },
  {
   "cell_type": "code",
   "execution_count": 17,
   "id": "1da576d0",
   "metadata": {},
   "outputs": [
    {
     "data": {
      "text/plain": [
       "np.float64(161.98645598194128)"
      ]
     },
     "execution_count": 17,
     "metadata": {},
     "output_type": "execute_result"
    }
   ],
   "source": [
    "my_slice = beat_times[100:400]\n",
    "time_mins = ((max(my_slice) - min(my_slice)) / 60)\n",
    "n_beat_gaps = (len(my_slice) - 1)\n",
    "global_tempo = n_beat_gaps / time_mins\n",
    "global_tempo"
   ]
  },
  {
   "cell_type": "code",
   "execution_count": null,
   "id": "59e0b084",
   "metadata": {},
   "outputs": [],
   "source": [
    "run_beat_tracking(\"audio/iädb-162-metronome.wav\")"
   ]
  },
  {
   "cell_type": "code",
   "execution_count": null,
   "id": "6dbb7bf8",
   "metadata": {},
   "outputs": [],
   "source": [
    "run_beat_tracking(\"audio/paint-it-black-no-metronome.wav\")"
   ]
  },
  {
   "cell_type": "code",
   "execution_count": null,
   "id": "c9be4342",
   "metadata": {},
   "outputs": [],
   "source": [
    "run_beat_tracking(\"audio/some-guitar-no-metronome.wav\")"
   ]
  },
  {
   "cell_type": "code",
   "execution_count": null,
   "id": "41ab44a5",
   "metadata": {},
   "outputs": [],
   "source": [
    "run_beat_tracking(\"audio/funk-jam-115-metronome.wav\")"
   ]
  },
  {
   "cell_type": "code",
   "execution_count": null,
   "id": "9b92e563",
   "metadata": {},
   "outputs": [],
   "source": [
    "run_beat_tracking(\"audio/flourecent-adolecent-no-metronome.wav\")"
   ]
  },
  {
   "cell_type": "code",
   "execution_count": null,
   "id": "6d126e44",
   "metadata": {},
   "outputs": [],
   "source": [
    "run_beat_tracking(\"audio/take-five-but-bad-no-metronome.wav\")"
   ]
  },
  {
   "cell_type": "code",
   "execution_count": null,
   "id": "68d454a3",
   "metadata": {},
   "outputs": [],
   "source": []
  }
 ],
 "metadata": {
  "kernelspec": {
   "display_name": ".venv",
   "language": "python",
   "name": "python3"
  },
  "language_info": {
   "codemirror_mode": {
    "name": "ipython",
    "version": 3
   },
   "file_extension": ".py",
   "mimetype": "text/x-python",
   "name": "python",
   "nbconvert_exporter": "python",
   "pygments_lexer": "ipython3",
   "version": "3.11.9"
  }
 },
 "nbformat": 4,
 "nbformat_minor": 5
}
